{
 "cells": [
  {
   "cell_type": "markdown",
   "metadata": {},
   "source": [
    "### Manipulation de datasets et visualisation\n",
    "\n",
    "Exemple avec le dataset MNIST --> on peut le télécharger en passant par `torchvision`."
   ]
  },
  {
   "cell_type": "code",
   "execution_count": 2,
   "metadata": {},
   "outputs": [],
   "source": [
    "# imports\n",
    "from torchvision import datasets , transforms\n",
    "import matplotlib . pyplot as plt\n",
    "import numpy as np\n",
    "import torch"
   ]
  },
  {
   "cell_type": "markdown",
   "metadata": {},
   "source": [
    "__Chargement des données__"
   ]
  },
  {
   "cell_type": "code",
   "execution_count": 7,
   "metadata": {},
   "outputs": [],
   "source": [
    "trans = transforms.Compose([transforms.ToTensor(), # convert to tensor\n",
    "                            transforms.Normalize((0.1307,), (0.3081,))  # mean and std of MNIST dataset\n",
    "                            ]\n",
    "                            )\n",
    "\n",
    "train_set = datasets.MNIST( './data' , train = True, transform = trans, download = True)\n",
    "test_set = datasets.MNIST( './data' , train = False, transform = trans, download = True)"
   ]
  },
  {
   "cell_type": "markdown",
   "metadata": {},
   "source": [
    "__Affichage__"
   ]
  },
  {
   "cell_type": "code",
   "execution_count": 8,
   "metadata": {},
   "outputs": [],
   "source": [
    "def imshow(tensor, title=None):\n",
    "    img = tensor.cpu().clone()\n",
    "    img = img.squeeze()\n",
    "    plt.imshow(img, cmap='gray')\n",
    "    if title is not None:\n",
    "        plt.title(title)\n",
    "    plt.pause(0.5)"
   ]
  },
  {
   "cell_type": "code",
   "execution_count": 9,
   "metadata": {},
   "outputs": [
    {
     "ename": "SyntaxError",
     "evalue": "invalid syntax. Perhaps you forgot a comma? (1375829356.py, line 5)",
     "output_type": "error",
     "traceback": [
      "\u001b[0;36m  Cell \u001b[0;32mIn[9], line 5\u001b[0;36m\u001b[0m\n\u001b[0;31m    imshow(train_set ... , title = \"MNIST example ({})\".format(train_set ...))\u001b[0m\n\u001b[0m           ^\u001b[0m\n\u001b[0;31mSyntaxError\u001b[0m\u001b[0;31m:\u001b[0m invalid syntax. Perhaps you forgot a comma?\n"
     ]
    }
   ],
   "source": [
    "# Affichage des 10 premières images\n",
    "plt.figure () \n",
    "for ii in range(10):\n",
    "    # complete\n",
    "    imshow(train_set ... , title = \"MNIST example ({})\".format(train_set ...))\n",
    "plt.close()"
   ]
  },
  {
   "cell_type": "code",
   "execution_count": null,
   "metadata": {},
   "outputs": [],
   "source": [
    "# Affichage de 10 images au hasard\n",
    "\n",
    "rd_range=\n",
    "\n",
    "plt.figure () \n",
    "for ii in rd_range :\n",
    "    imshow(..., title = \"MNIST example ({})\".format(...))\n",
    "plt.close ()"
   ]
  },
  {
   "cell_type": "markdown",
   "metadata": {},
   "source": [
    "__Surcharge couleur__\n",
    "\n",
    "Passer d'une image noir et blanc (grayscale --> 1 seul canal) à une image couleur (RGB --> 3 canaux)."
   ]
  },
  {
   "cell_type": "code",
   "execution_count": 9,
   "metadata": {},
   "outputs": [],
   "source": [
    "class gray2color_dataset(torch.utils.data.Dataset):\n",
    "    def __init__(self, dataset_in):\n",
    "        self.dataset_in = dataset_in\n",
    "    def __len__(self):\n",
    "        return len(self.dataset_in)\n",
    "    def __getitem__(self, idx):\n",
    "        x = self.dataset_in.data[idx] \n",
    "        image = torch.zeros(3,x.shape[0],x.shape[1]) # create a 3-channel image\n",
    "        label = self.dataset_in.targets[idx]\n",
    "        if ...:\n",
    "            ...\n",
    "        return (image, label)\n"
   ]
  },
  {
   "cell_type": "code",
   "execution_count": null,
   "metadata": {},
   "outputs": [],
   "source": [
    "def imshowcolor(in_tensor, title=None):\n",
    "    img = in_tensor.cpu().clone()\n",
    "    img = img.squeeze()\n",
    "    plt.imshow(img.permute(1, 2, 0))\n",
    "    if title is not None:\n",
    "        plt.title(title)\n",
    "    plt.pause(0.5)\n",
    "\n",
    "    \n",
    "# transformation\n",
    "color_dataset = gray2color_dataset(train_set)\n",
    "for ii in range(20):\n",
    "    imshowcolor(color_dataset[ii][0] , title='MNIST color example ({})'.format(color_dataset[ii][1]))\n"
   ]
  },
  {
   "cell_type": "markdown",
   "metadata": {},
   "source": [
    "__Version avec jittering__\n",
    "\n",
    "Ajout de bruit sur les autres canaux pour chaque image."
   ]
  },
  {
   "cell_type": "code",
   "execution_count": 11,
   "metadata": {},
   "outputs": [],
   "source": [
    "class gray2gliter_dataset(torch.utils.data.Dataset):\n",
    "    def __init__(self, dataset_in):\n",
    "        self.dataset_in = dataset_in \n",
    "    def __len__(self):\n",
    "        return len(self.dataset_in)\n",
    "    def __getitem__(self, idx):\n",
    "        x = self.dataset_in.data[idx] \n",
    "        noise_a  = torch.randn(x.size())\n",
    "        noise_b  = torch.randn(x.size())\n",
    "        image = torch.zeros(3,x.shape[0],x.shape[1])\n",
    "        label = self.dataset_in.targets[idx] \n",
    "        if ...:\n",
    "            ...\n",
    "        return (image, label)\n",
    "    \n",
    "gliter_dataset = gray2gliter_dataset(train_set)"
   ]
  },
  {
   "cell_type": "code",
   "execution_count": null,
   "metadata": {},
   "outputs": [],
   "source": [
    "plt.figure () \n",
    "for ii in range(20):\n",
    "    imshowcolor(gliter_dataset[ii][0] , title='MNIST gliter example ({})'.format(gliter_dataset[ii][1]))\n",
    "plt.close()"
   ]
  },
  {
   "cell_type": "markdown",
   "metadata": {},
   "source": [
    "Remarque : le color jittering est une technique d'augmentation de données classique visant à améliorer la robustesse des modèles."
   ]
  }
 ],
 "metadata": {
  "kernelspec": {
   "display_name": "Python 3",
   "language": "python",
   "name": "python3"
  },
  "language_info": {
   "codemirror_mode": {
    "name": "ipython",
    "version": 3
   },
   "file_extension": ".py",
   "mimetype": "text/x-python",
   "name": "python",
   "nbconvert_exporter": "python",
   "pygments_lexer": "ipython3",
   "version": "3.12.5"
  }
 },
 "nbformat": 4,
 "nbformat_minor": 2
}

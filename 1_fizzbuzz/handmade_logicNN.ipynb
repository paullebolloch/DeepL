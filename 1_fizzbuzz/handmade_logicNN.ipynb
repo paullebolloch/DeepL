{
 "cells": [
  {
   "cell_type": "markdown",
   "metadata": {},
   "source": [
    "### Apprentissage de portes logiques\n",
    "\n",
    "OR, AND, NOR et NAND\n",
    "\n",
    "| A | B | A OR B | | A | B | A AND B |\n",
    "|---|---|--------|-|---|---|----------|\n",
    "| 0 | 0 | 0 | | 0 | 0 | 0 |\n",
    "| 0 | 1 | 1 | | 0 | 1 | 0 |\n",
    "| 1 | 0 | 1 | | 1 | 0 | 0 |\n",
    "| 1 | 1 | 1 | | 1 | 1 | 1 |\n",
    "\n",
    "\n",
    "| A | B | A NOR B | | A | B | A NAND B |\n",
    "|---|---|---------|-|---|---|-----------|\n",
    "| 0 | 0 | 1 | | 0 | 0 | 1 |\n",
    "| 0 | 1 | 0 | | 0 | 1 | 1 |\n",
    "| 1 | 0 | 0 | | 1 | 0 | 1 |\n",
    "| 1 | 1 | 0 | | 1 | 1 | 0 |\n",
    "\n",
    "\n",
    "On veut apprendre à un réseau à réaliser ces portes logiques."
   ]
  },
  {
   "cell_type": "code",
   "execution_count": 1,
   "metadata": {},
   "outputs": [],
   "source": [
    "import numpy as np"
   ]
  },
  {
   "cell_type": "markdown",
   "metadata": {},
   "source": [
    "### Sigmoïde\n"
   ]
  },
  {
   "cell_type": "code",
   "execution_count": 2,
   "metadata": {},
   "outputs": [],
   "source": [
    "def sigmoid(x):\n",
    "    return 1 / (1 + np.exp(-x))"
   ]
  },
  {
   "cell_type": "markdown",
   "metadata": {},
   "source": [
    "### Modélisation\n",
    "\n",
    "On prend en entrée deux entiers en binaire, et on attend une sortie binaire."
   ]
  },
  {
   "cell_type": "code",
   "execution_count": 3,
   "metadata": {},
   "outputs": [],
   "source": [
    "X = np.array([[0 ,0] , [0 ,1] , [1 ,0] , [1 ,1]])"
   ]
  },
  {
   "cell_type": "markdown",
   "metadata": {},
   "source": [
    "#### Implémentation d'une rétropropagation\n",
    "\n",
    "Dans le cas d'un réseau simple (1 couche cachée, pas de biais)"
   ]
  },
  {
   "cell_type": "code",
   "execution_count": 11,
   "metadata": {},
   "outputs": [
    {
     "data": {
      "text/plain": [
       "array([[0, 0],\n",
       "       [0, 1],\n",
       "       [1, 0],\n",
       "       [1, 1]])"
      ]
     },
     "execution_count": 11,
     "metadata": {},
     "output_type": "execute_result"
    }
   ],
   "source": [
    "# Crée un array (2,4) de valeurs aléatoires comprises entre 0 et 1\n",
    "X"
   ]
  },
  {
   "cell_type": "code",
   "execution_count": 5,
   "metadata": {},
   "outputs": [],
   "source": [
    "def logicNN(X,t):\n",
    "    N = 4\n",
    "    epochs = 10000\n",
    "    lr = 0.1\n",
    "    W1 = np.random.rand(2,N) \n",
    "    W2 = np.random.rand(N,1)\n",
    "\n",
    "    for e in range(epochs):\n",
    "        ### forward pass\n",
    "        out1 = sigmoid(X.dot(W1))\n",
    "        out2 = sigmoid(out1.dot(W2))\n",
    "\n",
    "        ### backprop\n",
    "        error =  #MSE\n",
    "        d2 =   #A calculer à la main (valeur intermédiaire)\n",
    "        d1 = \n",
    "        # SGD\n",
    "        W2 += lr * out1.T.dot(d2)\n",
    "        W1 += lr * X.T.dot(d1)\n",
    "    return out2.flatten()"
   ]
  },
  {
   "cell_type": "code",
   "execution_count": 6,
   "metadata": {},
   "outputs": [
    {
     "ename": "AttributeError",
     "evalue": "'ellipsis' object has no attribute 'T'",
     "output_type": "error",
     "traceback": [
      "\u001b[0;31m---------------------------------------------------------------------------\u001b[0m",
      "\u001b[0;31mAttributeError\u001b[0m                            Traceback (most recent call last)",
      "Cell \u001b[0;32mIn[6], line 1\u001b[0m\n\u001b[0;32m----> 1\u001b[0m \u001b[38;5;28mprint\u001b[39m(\u001b[38;5;124m\"\u001b[39m\u001b[38;5;124mOR\u001b[39m\u001b[38;5;124m\"\u001b[39m, \u001b[43mlogicNN\u001b[49m\u001b[43m(\u001b[49m\u001b[43mX\u001b[49m\u001b[43m,\u001b[49m\u001b[43m \u001b[49m\u001b[43mnp\u001b[49m\u001b[38;5;241;43m.\u001b[39;49m\u001b[43marray\u001b[49m\u001b[43m(\u001b[49m\u001b[43m[\u001b[49m\u001b[43m[\u001b[49m\u001b[38;5;241;43m0\u001b[39;49m\u001b[43m,\u001b[49m\u001b[38;5;241;43m1\u001b[39;49m\u001b[43m,\u001b[49m\u001b[38;5;241;43m1\u001b[39;49m\u001b[43m,\u001b[49m\u001b[38;5;241;43m1\u001b[39;49m\u001b[43m]\u001b[49m\u001b[43m]\u001b[49m\u001b[43m)\u001b[49m\u001b[38;5;241;43m.\u001b[39;49m\u001b[43mT\u001b[49m\u001b[43m)\u001b[49m)\n\u001b[1;32m      2\u001b[0m \u001b[38;5;28mprint\u001b[39m(\u001b[38;5;124m\"\u001b[39m\u001b[38;5;124mAND\u001b[39m\u001b[38;5;124m\"\u001b[39m, logicNN(X, np\u001b[38;5;241m.\u001b[39marray([[\u001b[38;5;241m0\u001b[39m,\u001b[38;5;241m0\u001b[39m,\u001b[38;5;241m0\u001b[39m,\u001b[38;5;241m1\u001b[39m]])\u001b[38;5;241m.\u001b[39mT))\n\u001b[1;32m      3\u001b[0m \u001b[38;5;28mprint\u001b[39m(\u001b[38;5;124m\"\u001b[39m\u001b[38;5;124mXOR\u001b[39m\u001b[38;5;124m\"\u001b[39m, logicNN(X, np\u001b[38;5;241m.\u001b[39marray([[\u001b[38;5;241m0\u001b[39m,\u001b[38;5;241m1\u001b[39m,\u001b[38;5;241m1\u001b[39m,\u001b[38;5;241m0\u001b[39m]])\u001b[38;5;241m.\u001b[39mT))\n",
      "Cell \u001b[0;32mIn[5], line 18\u001b[0m, in \u001b[0;36mlogicNN\u001b[0;34m(X, t)\u001b[0m\n\u001b[1;32m     16\u001b[0m     d1 \u001b[38;5;241m=\u001b[39m \u001b[38;5;241m.\u001b[39m\u001b[38;5;241m.\u001b[39m\u001b[38;5;241m.\u001b[39m\n\u001b[1;32m     17\u001b[0m     \u001b[38;5;66;03m# SGD\u001b[39;00m\n\u001b[0;32m---> 18\u001b[0m     W2 \u001b[38;5;241m+\u001b[39m\u001b[38;5;241m=\u001b[39m lr \u001b[38;5;241m*\u001b[39m \u001b[43mout1\u001b[49m\u001b[38;5;241;43m.\u001b[39;49m\u001b[43mT\u001b[49m\u001b[38;5;241m.\u001b[39mdot(d2)\n\u001b[1;32m     19\u001b[0m     W1 \u001b[38;5;241m+\u001b[39m\u001b[38;5;241m=\u001b[39m lr \u001b[38;5;241m*\u001b[39m X\u001b[38;5;241m.\u001b[39mT\u001b[38;5;241m.\u001b[39mdot(d1)\n\u001b[1;32m     20\u001b[0m \u001b[38;5;28;01mreturn\u001b[39;00m out2\u001b[38;5;241m.\u001b[39mflatten()\n",
      "\u001b[0;31mAttributeError\u001b[0m: 'ellipsis' object has no attribute 'T'"
     ]
    }
   ],
   "source": [
    "print(\"OR\", logicNN(X, np.array([[0,1,1,1]]).T))\n",
    "print(\"AND\", logicNN(X, np.array([[0,0,0,1]]).T))\n",
    "print(\"XOR\", logicNN(X, np.array([[0,1,1,0]]).T))\n",
    "print(\"NAND\", logicNN(X, np.array([[1,1,1,0]]).T))\n",
    "print(\"NOR\", logicNN(X, np.array([[1,0,0,0]]).T))"
   ]
  },
  {
   "cell_type": "code",
   "execution_count": null,
   "metadata": {},
   "outputs": [],
   "source": [
    "# Autre exemples\n",
    "X = np.array([[0.1,0.1], [0.2,0.9], [0.8,0.15], [0.85,0.8]])\n",
    "print(\"OR\", logicNN(X, np.array([[0,1,1,1]]).T))\n",
    "\n",
    "X = np.array([[0,0], [0,1], [1,0], [1,1],[0.1,0.1], [0.2,0.9], [0.8,0.15], [0.85,0.8]])\n",
    "print(\"OR\", logicNN(X, np.array([[0,1,1,1,0,1,1,1]]).T))"
   ]
  }
 ],
 "metadata": {
  "kernelspec": {
   "display_name": "Python 3",
   "language": "python",
   "name": "python3"
  },
  "language_info": {
   "codemirror_mode": {
    "name": "ipython",
    "version": 3
   },
   "file_extension": ".py",
   "mimetype": "text/x-python",
   "name": "python",
   "nbconvert_exporter": "python",
   "pygments_lexer": "ipython3",
   "version": "3.12.5"
  }
 },
 "nbformat": 4,
 "nbformat_minor": 2
}
